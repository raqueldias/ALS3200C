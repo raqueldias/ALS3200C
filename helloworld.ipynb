{
  "nbformat": 4,
  "nbformat_minor": 0,
  "metadata": {
    "colab": {
      "name": "helloworld.ipynb",
      "provenance": [],
      "collapsed_sections": []
    },
    "kernelspec": {
      "name": "python3",
      "display_name": "Python 3"
    },
    "language_info": {
      "name": "python"
    }
  },
  "cells": [
    {
      "cell_type": "markdown",
      "metadata": {
        "id": "N7hAL1adKmRZ"
      },
      "source": [
        "# welcome to jupyter notebooks!\n",
        "\n",
        "In this course, we will use jupyter notebooks to program AIs.\n",
        "\n",
        "A jupyter notebook combines text, images, videos and other media with interactive, executable Python code that can be edited and run in real-time.\n",
        "\n",
        "What you are reading now is called a \"text cell\"; it is used to provide information and instructions. You can edit any text cell in your notebook to add notes or other information, or you can create new text cells in your notebook.\n",
        "\n",
        "The next cell below, where you see the Python code:\n",
        "\n",
        "    print('hello world!')\n",
        "\n",
        "is called a \"code cell\"; it is used to write, edit and execute Python code.\n",
        "\n",
        "The code cell below implements the classic \"hello world\" program, which just prints \"hello world\" to the screen.\n",
        "\n",
        "To run the code in the next cell, you can do one of the following:\n",
        "\n",
        "\n",
        "*   Click to the left of the cell's text where the 'play' button appears (this is probably the easiest method for most people). The 'play' button will look like a right-facing arrow (\">\"), and it will appear when your mouse hovers over the code block to the left of the code text.\n",
        "*   Click anywhere on the cell's text and then type the (Ctrl+Enter) keys.\n",
        "*   Click anywhere on the cell's text, then click on the \"Runtime\" tab at the top and select \"Run the focused cell\".\n",
        "\n",
        "Try running the next cell by clicking on the 'play' button to the left of the \"print('hello world!')\" line.\n",
        "\n",
        "You will likely get a popup warning stating, \"Warning: This notebook was not authored by Google\". The jupyter notebooks provided for this course are safe; please click the \"RUN ANYWAY\" button to execute the code block. You should only get this warning the first time you load and execute a new notebook.\n",
        "\n",
        "The play button may cycle for a bit while you connect to a UNIX server on the internet, and then you should see the words \"hello world!\" appear right below the code block.\n",
        "\n",
        "Once a code block is executed, the output of the code block (if there is any output) will always appear right below the code block that just executed."
      ]
    },
    {
      "cell_type": "code",
      "metadata": {
        "id": "Yk0onWRML7Ti"
      },
      "source": [
        "print('hello world!')"
      ],
      "execution_count": null,
      "outputs": []
    },
    {
      "cell_type": "markdown",
      "metadata": {
        "id": "RCMoonv4OieZ"
      },
      "source": [
        "You can delete the code output by clicking to the left of the output block, which will show a 'delete' button that looks like an \"X\" when your mouse hovers over it.\n",
        "\n",
        "Go ahead and try deleting the \"hello world!\" output by clicking to the left of the output block on the 'delete' button. You should see the \"hello world!\" output block disappear.\n",
        "\n",
        "You can then re-run the code block above, if you would like to see the output again."
      ]
    },
    {
      "cell_type": "markdown",
      "metadata": {
        "id": "q8r-mRdpQIi2"
      },
      "source": [
        "## you have completed this jupyter notebook\n",
        "\n",
        "Congratulations!\n",
        "\n",
        "Jupyter notebooks are a very convenient mechanism for sharing Python code annotated with instructions, notes and other media. They are widely used by the Python programming community.\n",
        "\n",
        "We will be using jupyter notebooks for all our programming exercises in this class."
      ]
    }
  ]
}
